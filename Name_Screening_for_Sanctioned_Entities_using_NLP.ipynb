{
  "nbformat": 4,
  "nbformat_minor": 0,
  "metadata": {
    "colab": {
      "provenance": []
    },
    "kernelspec": {
      "name": "python3",
      "display_name": "Python 3"
    },
    "language_info": {
      "name": "python"
    }
  },
  "cells": [
    {
      "cell_type": "code",
      "source": [
        "!pip install fuzzywuzzy python-Levenshtein\n"
      ],
      "metadata": {
        "id": "QIT48X_P4KaY"
      },
      "execution_count": null,
      "outputs": []
    },
    {
      "cell_type": "code",
      "execution_count": 8,
      "metadata": {
        "id": "saK_SKC_2emB"
      },
      "outputs": [],
      "source": [
        "import pandas as pd\n",
        "from fuzzywuzzy import fuzz, process"
      ]
    },
    {
      "cell_type": "code",
      "source": [
        "transactions = pd.DataFrame({\n",
        "    \"Transaction_ID\": range(1, 6),\n",
        "    \"Name\": [\"John Doe\", \"Ali Hassan\", \"Kim Jong\", \"Samantha Lee\", \"Vladimir Putin\"]\n",
        "})\n"
      ],
      "metadata": {
        "id": "y2q_gJxC3Pws"
      },
      "execution_count": 10,
      "outputs": []
    },
    {
      "cell_type": "code",
      "source": [
        "names = pd.read_csv(\"names.csv\", encoding=\"latin1\")\n"
      ],
      "metadata": {
        "id": "8m6Mesgz9dK8"
      },
      "execution_count": 14,
      "outputs": []
    },
    {
      "cell_type": "code",
      "source": [
        "names.columns"
      ],
      "metadata": {
        "colab": {
          "base_uri": "https://localhost:8080/"
        },
        "id": "aDCFTaGeAAR9",
        "outputId": "9cf6364c-ad10-44da-9e0f-96ed7c9e2581"
      },
      "execution_count": 15,
      "outputs": [
        {
          "output_type": "execute_result",
          "data": {
            "text/plain": [
              "Index(['Firstname', 'Lastname'], dtype='object')"
            ]
          },
          "metadata": {},
          "execution_count": 15
        }
      ]
    },
    {
      "cell_type": "code",
      "source": [
        "names[\"fullname\"] = names[\"Firstname\"] + \" \" + names[\"Lastname\"]"
      ],
      "metadata": {
        "id": "a0TCUf4U_5Rh"
      },
      "execution_count": 16,
      "outputs": []
    },
    {
      "cell_type": "code",
      "source": [
        "sanctioned_names = [\"Kim Jong-un\", \"Vladimir Putin\", \"Ali Hassan al-Majid\"]\n"
      ],
      "metadata": {
        "id": "RIRMGIBR4Bj5"
      },
      "execution_count": 17,
      "outputs": []
    },
    {
      "cell_type": "code",
      "source": [
        "# Function to check name similarity\n",
        "def check_sanctions(name, sanctioned_list, threshold=80):\n",
        "    match, score = process.extractOne(name, sanctioned_list, scorer=fuzz.token_sort_ratio)\n",
        "    return match if score >= threshold else None\n",
        "\n",
        "# Apply screening\n",
        "transactions[\"Sanctioned Match\"] = names[\"fullname\"].apply(lambda x: check_sanctions(x, sanctioned_names))\n",
        "\n",
        "# Show flagged transactions\n",
        "flagged = transactions.dropna(subset=[\"Sanctioned Match\"])\n",
        "print(flagged)"
      ],
      "metadata": {
        "colab": {
          "base_uri": "https://localhost:8080/"
        },
        "id": "V_HFOVHA34nl",
        "outputId": "14321866-7d56-4e5b-a280-88352e0d39bd"
      },
      "execution_count": 18,
      "outputs": [
        {
          "output_type": "stream",
          "name": "stdout",
          "text": [
            "Empty DataFrame\n",
            "Columns: [Transaction_ID, Name, Sanctioned Match]\n",
            "Index: []\n"
          ]
        }
      ]
    }
  ]
}